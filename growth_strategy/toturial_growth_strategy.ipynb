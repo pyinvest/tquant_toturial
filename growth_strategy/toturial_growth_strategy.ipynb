{
 "cells": [
  {
   "cell_type": "markdown",
   "metadata": {},
   "source": [
    "### 前置作業\n",
    "\n",
    "1. 安裝好相關tquant環境\n",
    "2. 設定好.env\n",
    "3. 放好 strategy.py"
   ]
  },
  {
   "cell_type": "code",
   "execution_count": 32,
   "metadata": {},
   "outputs": [],
   "source": [
    "# load .env\n",
    "import os\n",
    "\n",
    "import tejapi\n",
    "from dotenv import load_dotenv\n",
    "\n",
    "load_dotenv()\n",
    "tejapi.ApiConfig.api_key = os.environ.get(\"TEJAPI_KEY\")\n",
    "tejapi.ApiConfig.api_base = os.environ.get(\"TEJAPI_BASE\")"
   ]
  },
  {
   "cell_type": "code",
   "execution_count": 33,
   "metadata": {},
   "outputs": [],
   "source": [
    "# 載入套件\n",
    "\n",
    "import importlib\n",
    "\n",
    "import matplotlib.pyplot as plt\n",
    "import numpy as np\n",
    "import pandas as pd\n",
    "import strategy\n",
    "import TejToolAPI\n",
    "from strategy import PercentageIndicatorStrategy\n",
    "from zipline import run_algorithm\n",
    "from zipline.algo.pipeline_algo import *\n",
    "from zipline.data import bundles\n",
    "from zipline.data.data_portal import get_bundle\n",
    "from zipline.pipeline import CustomFactor, Pipeline\n",
    "from zipline.pipeline.data import TWEquityPricing\n",
    "from zipline.pipeline.data.dataset import Column, DataSet\n",
    "from zipline.pipeline.domain import TW_EQUITIES\n",
    "from zipline.pipeline.factors import DailyReturns\n",
    "from zipline.pipeline.loaders.frame import DataFrameLoader\n",
    "from zipline.sources.TEJ_Api_Data import get_universe\n",
    "from zipline.utils.calendar_utils import get_calendar"
   ]
  },
  {
   "cell_type": "code",
   "execution_count": 34,
   "metadata": {},
   "outputs": [
    {
     "name": "stderr",
     "output_type": "stream",
     "text": [
      "[2024-05-26 15:12:15.935286]: INFO: get_universe_TW: Filters：{'mkt_bd_e': ['TSE', 'OTC'], 'stktp_c': ['普通股']}\n"
     ]
    }
   ],
   "source": [
    "# 載入外部資料\n",
    "\n",
    "start = '2016-01-01'\n",
    "end = '2024-05-24'\n",
    "\n",
    "start_dt = pd.Timestamp(start, tz='utc')\n",
    "end_dt = pd.Timestamp(end, tz='utc')\n",
    "\n",
    "tickers = get_universe(start, end, mkt_bd_e=['TSE', 'OTC'], stktp_c=['普通股'])\n",
    "\n",
    "columns = [\n",
    "    'd0003',\n",
    "    'd0004',\n",
    "    'd0007',\n",
    "    'eps',\n",
    "    'Outstanding_Shares_1000_Shares',\n",
    "]\n",
    "\n",
    "external_data = TejToolAPI.get_history_data(ticker=tickers,\n",
    "                                            columns=columns,\n",
    "                                            start=start,\n",
    "                                            end=end)\n",
    "external_data['mdate'] = pd.to_datetime(external_data['mdate'], utc=True)"
   ]
  },
  {
   "cell_type": "code",
   "execution_count": 22,
   "metadata": {},
   "outputs": [],
   "source": [
    "# 下載回測(價量)資料\n",
    "\n",
    "os.environ['mdate'] = start + ' ' + end\n",
    "os.environ['ticker'] = \" \".join(tickers + ['IR0001'])"
   ]
  },
  {
   "cell_type": "code",
   "execution_count": null,
   "metadata": {},
   "outputs": [],
   "source": [
    "# 下載回測(價量)資料\n",
    "!zipline ingest -b tquant"
   ]
  },
  {
   "cell_type": "code",
   "execution_count": 61,
   "metadata": {},
   "outputs": [],
   "source": [
    "bundle_name = 'tquant'\n",
    "bundle = bundles.load(bundle_name)\n",
    "\n",
    "df_bundle = get_bundle(bundle_name=bundle_name,\n",
    "                       calendar_name='TEJ',\n",
    "                       start_dt=start_dt,\n",
    "                       end_dt=end_dt)\n",
    "df_bundle"
   ]
  },
  {
   "cell_type": "code",
   "execution_count": 62,
   "metadata": {},
   "outputs": [],
   "source": [
    "class CustomDataset(DataSet):\n",
    "    Basic_Earnings_Per_Share_TTM = Column(dtype=float)\n",
    "    Basic_Earnings_Per_Share_Q = Column(dtype=float)\n",
    "    Outstanding_Shares_1000_Shares = Column(dtype=float)\n",
    "    MoM_Monthly_Sales = Column(dtype=float)\n",
    "    YoY_Monthly_Sales = Column(dtype=float)\n",
    "    domain = TW_EQUITIES\n",
    "\n",
    "\n",
    "sids = bundle.asset_finder.equities_sids\n",
    "assets = bundle.asset_finder.retrieve_all(sids)\n",
    "symbol_mapping_sid = {i.symbol: i.sid for i in assets}\n",
    "transform_data = external_data.set_index(['coid', 'mdate']).unstack('coid')\n",
    "transform_data = transform_data.rename(columns=symbol_mapping_sid)\n",
    "transform_data"
   ]
  },
  {
   "cell_type": "code",
   "execution_count": 37,
   "metadata": {},
   "outputs": [],
   "source": [
    "inputs = [\n",
    "    CustomDataset.Basic_Earnings_Per_Share_TTM,\n",
    "    CustomDataset.Basic_Earnings_Per_Share_Q,\n",
    "    CustomDataset.Outstanding_Shares_1000_Shares,\n",
    "    CustomDataset.MoM_Monthly_Sales, CustomDataset.YoY_Monthly_Sales\n",
    "]\n",
    "custom_loader = {\n",
    "    i:\n",
    "    DataFrameLoader(column=i,\n",
    "                    baseline=transform_data.xs(i.name, level=0, axis=1))\n",
    "    for i in inputs\n",
    "}"
   ]
  },
  {
   "cell_type": "code",
   "execution_count": 40,
   "metadata": {},
   "outputs": [],
   "source": [
    "class EPSRatio(CustomFactor):\n",
    "    inputs = [CustomDataset.Basic_Earnings_Per_Share_TTM]\n",
    "    window_length = 756\n",
    "\n",
    "    def compute(self, today, assets, out, eps):\n",
    "        out[:] = eps[-1] / eps[0]\n",
    "\n",
    "\n",
    "class GrowthFactorX(CustomFactor):\n",
    "    inputs = [EPSRatio()]\n",
    "    window_length = 1\n",
    "\n",
    "    def compute(self, today, assets, out, eps_ratio):\n",
    "        out[:] = np.cbrt(eps_ratio) - 1\n",
    "\n",
    "\n",
    "class EPSYOY(CustomFactor):\n",
    "    inputs = [CustomDataset.Basic_Earnings_Per_Share_Q]\n",
    "    window_length = 252\n",
    "\n",
    "    def compute(self, today, assets, out, eps):\n",
    "        out[:] = (eps[-1] - eps[0]) / eps[0]\n",
    "\n",
    "\n",
    "class ValueStrategy(strategy.PercentageIndicatorStrategy):\n",
    "\n",
    "    def compute_signals(self):\n",
    "        outstanding_shares = CustomDataset.Outstanding_Shares_1000_Shares.latest\n",
    "        yoy_monthly_sales = CustomDataset.YoY_Monthly_Sales.latest\n",
    "        growth_factor_x = GrowthFactorX()\n",
    "        eps_yoy = EPSYOY()\n",
    "        # condition 1\n",
    "        growth_factor_x_greater_than_0_25 = growth_factor_x > 0.25\n",
    "        # condition 2\n",
    "        growth_yoy_greater_than_0_25 = eps_yoy > 0.25\n",
    "        # condition 3\n",
    "        yoy_monthly_sales_greater_than_0_1 = yoy_monthly_sales > 10\n",
    "\n",
    "        filter = growth_factor_x_greater_than_0_25 & growth_yoy_greater_than_0_25 & yoy_monthly_sales_greater_than_0_1\n",
    "        signal = outstanding_shares.zscore(mask=filter)\n",
    "        return Pipeline(columns={\n",
    "            'longs': signal.bottom(30),\n",
    "        })\n"
   ]
  },
  {
   "cell_type": "code",
   "execution_count": 63,
   "metadata": {},
   "outputs": [],
   "source": [
    "\n",
    "def initialize(context):\n",
    "    context.strategy = ValueStrategy(assets, start_dt, end_dt)\n",
    "    context.strategy.initialize(context)\n",
    "\n",
    "\n",
    "def before_trading_start(context, data):\n",
    "    context.strategy.before_trading_start(context, data)\n",
    "\n",
    "\n",
    "def analyze(context, perf):\n",
    "\n",
    "    fig = plt.figure(figsize=(16, 12))\n",
    "\n",
    "    # First chart(累計報酬)\n",
    "    ax = fig.add_subplot(311)\n",
    "    ax.set_title('Strategy Results')\n",
    "    ax.plot(perf['algorithm_period_return'],\n",
    "            linestyle='-',\n",
    "            label='algorithm period return',\n",
    "            linewidth=3.0)\n",
    "    ax.plot(perf['benchmark_period_return'],\n",
    "            linestyle='-',\n",
    "            label='benchmark period return',\n",
    "            linewidth=3.0)\n",
    "    ax.legend()\n",
    "    ax.grid(False)\n",
    "    # Second chart(ending_cash)->觀察是否超買\n",
    "    ax = fig.add_subplot(312)\n",
    "    ax.plot(perf['ending_cash'],\n",
    "            label='ending_cash',\n",
    "            linestyle='-',\n",
    "            linewidth=1.0)\n",
    "    ax.axhline(y=1, c='r', linewidth=0.3)\n",
    "    ax.legend()\n",
    "    ax.grid(True)\n",
    "\n",
    "\n",
    "result = run_algorithm(pd.Timestamp('2020-04-01', tz='utc'),\n",
    "                       end=end_dt,\n",
    "                       initialize=initialize,\n",
    "                       before_trading_start=before_trading_start,\n",
    "                       capital_base=1e6,\n",
    "                       data_frequency='daily',\n",
    "                       bundle_timestamp=pd.Timestamp('2016-01-01', tz='utc'),\n",
    "                       bundle='tquant',\n",
    "                       analyze=analyze,\n",
    "                       trading_calendar=get_calendar(\"TEJ\"),\n",
    "                       custom_loader=custom_loader)"
   ]
  },
  {
   "cell_type": "code",
   "execution_count": 64,
   "metadata": {},
   "outputs": [],
   "source": [
    "import pyfolio\n",
    "from pyfolio.utils import extract_rets_pos_txn_from_zipline\n",
    "\n",
    "returns, positions, transactions = extract_rets_pos_txn_from_zipline(result)\n",
    "benchmark_rets = result.benchmark_return\n",
    "pyfolio.tears.create_full_tear_sheet(returns=returns,\n",
    "                                     positions=positions,\n",
    "                                     transactions=transactions,\n",
    "                                     benchmark_rets=benchmark_rets\n",
    "                                    )"
   ]
  }
 ],
 "metadata": {
  "kernelspec": {
   "display_name": "tqaunt_bin",
   "language": "python",
   "name": "python3"
  },
  "language_info": {
   "codemirror_mode": {
    "name": "ipython",
    "version": 3
   },
   "file_extension": ".py",
   "mimetype": "text/x-python",
   "name": "python",
   "nbconvert_exporter": "python",
   "pygments_lexer": "ipython3",
   "version": "3.9.18"
  }
 },
 "nbformat": 4,
 "nbformat_minor": 2
}
